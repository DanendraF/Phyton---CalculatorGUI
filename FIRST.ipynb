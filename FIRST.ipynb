{
 "cells": [
  {
   "cell_type": "code",
   "execution_count": 4,
   "metadata": {},
   "outputs": [
    {
     "name": "stdout",
     "output_type": "stream",
     "text": [
      "===================\n",
      "=====Cape Cape=====\n",
      "===================\n",
      "genap\n",
      "hasilnya 6\n"
     ]
    }
   ],
   "source": [
    "print(\"===================\")\n",
    "print(\"=====Cape Cape=====\")\n",
    "print(\"===================\")\n",
    "\n",
    "x = int(input(\"Masukan bilangan\"))\n",
    "y = int(input(\"Masukan bilangan\"))\n",
    "\n",
    "z = x * y\n",
    "\n",
    "if z % 2 == 0 :\n",
    "    print(\"genap\")\n",
    "\n",
    "else :\n",
    "    print(\"ganjil\")\n",
    "\n",
    "print(\"hasilnya \" +str(z))\n",
    "\n",
    "\n"
   ]
  }
 ],
 "metadata": {
  "kernelspec": {
   "display_name": "Python 3",
   "language": "python",
   "name": "python3"
  },
  "language_info": {
   "codemirror_mode": {
    "name": "ipython",
    "version": 3
   },
   "file_extension": ".py",
   "mimetype": "text/x-python",
   "name": "python",
   "nbconvert_exporter": "python",
   "pygments_lexer": "ipython3",
   "version": "3.11.1"
  },
  "orig_nbformat": 4,
  "vscode": {
   "interpreter": {
    "hash": "e956c49ae0caa224b5fdd754cbc353d7e61c6c61f7329ee680c7f7b4f1b71a8e"
   }
  }
 },
 "nbformat": 4,
 "nbformat_minor": 2
}
